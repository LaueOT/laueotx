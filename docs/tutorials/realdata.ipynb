{
  "cells": [
    {
      "cell_type": "raw",
      "metadata": {},
      "source": [
        "---\n",
        "title: How to work with real data\n",
        "format:\n",
        "  html:\n",
        "    code-fold: true\n",
        "    code-tools: true\n",
        "execute:\n",
        "  echo: true\n",
        "---"
      ],
      "id": "f219497d"
    },
    {
      "cell_type": "code",
      "metadata": {},
      "source": [
        "#| echo: false\n",
        "#| code-fold: false\n",
        "#| output: false\n",
        "import sys, os, h5py, bz2, matplotlib.pyplot as plt, importlib, itertools\n",
        "from tqdm.auto import tqdm, trange\n",
        "from collections import OrderedDict\n",
        "from IPython.display import set_matplotlib_formats\n",
        "import seaborn\n",
        "from ipywidgets import interactive, fixed\n",
        "set_matplotlib_formats('retina')\n",
        "plt.style.use('dark_background')\n",
        "# plt.style.use('default')\n",
        "import plotting"
      ],
      "id": "904aa0ac",
      "execution_count": null,
      "outputs": []
    },
    {
      "cell_type": "markdown",
      "metadata": {},
      "source": [
        "## Computing files\n",
        "\n",
        "Before running the below commands make sure you have correctly installed and setup your environment.\n",
        "\n",
        "\n",
        "\n",
        "Download the dataset to `tmp` directory (create it first). From the base folder run\n",
        "\n",
        "```python\n",
        "laueotx realdata compute 0 --conf tmp/config_realdata_fega10_v10_demo.yaml -o results/realdata_fega10_v10_demo/ --n-grid 1000\n",
        "laueotx realdata compute 1 --conf tmp/config_realdata_fega10_v10_demo.yaml -o results/realdata_fega10_v10_demo/ --n-grid 1000\n",
        "laueotx realdata merge 0 1 --conf tmp/config_realdata_fega10_v10_demo.yaml -o results/realdata_fega10_v10_demo/ --n-grid 1000\n",
        "```\n",
        "\n",
        "We will be analysing the merged output of the previous commands\n"
      ],
      "id": "564f0d1c"
    },
    {
      "cell_type": "code",
      "metadata": {},
      "source": [
        "#| echo: true\n",
        "#| code-fold: false\n",
        "fname = '../../results/realdata_fega10_v10_demo/analyze_sample__fega10_v10__merged.h5'"
      ],
      "id": "a656ffcb",
      "execution_count": null,
      "outputs": []
    },
    {
      "cell_type": "code",
      "metadata": {},
      "source": [
        "#| echo: true\n",
        "#| code-fold: false\n",
        "#| output: false\n",
        "spot_loss, s_obs, s_mod, inds_mod, inds_obs, p_lam, s2g_mod_assign, s2g_obs_assign, s2s_mod_assign, s2s_obs_assign = plotting.load_sample(fname)"
      ],
      "id": "3dc17f82",
      "execution_count": null,
      "outputs": []
    },
    {
      "cell_type": "code",
      "metadata": {},
      "source": [
        "#| column: page\n",
        "a_est, x_est = plotting.load_grain_params(fname)\n",
        "plotting.plotly_scatter3d_sample(a_est, x_est)"
      ],
      "id": "9db3d182",
      "execution_count": null,
      "outputs": []
    },
    {
      "cell_type": "code",
      "metadata": {},
      "source": [
        "omegas = range(0,360,4)"
      ],
      "id": "f57084db",
      "execution_count": null,
      "outputs": []
    },
    {
      "cell_type": "markdown",
      "metadata": {},
      "source": [
        "## Plot grain statistics"
      ],
      "id": "38d14a48"
    },
    {
      "cell_type": "code",
      "metadata": {},
      "source": [
        "plotting.print_nspots_per_det(inds_obs[1], s2g_obs_assign, tag='detected ')\n",
        "plotting.print_nspots_per_det(inds_mod[1], s2g_mod_assign, tag='model    ')"
      ],
      "id": "34b7dc2c",
      "execution_count": null,
      "outputs": []
    },
    {
      "cell_type": "code",
      "metadata": {},
      "source": [
        "#| column: page\n",
        "plotting.plotly_grain_stats(s2s_mod_assign, s2s_obs_assign, s2g_mod_assign, s2g_obs_assign, s_obs, s_mod, inds_mod, inds_obs)"
      ],
      "id": "f1d2e3a9",
      "execution_count": null,
      "outputs": []
    },
    {
      "cell_type": "markdown",
      "metadata": {},
      "source": [
        "## Plot prototype loss"
      ],
      "id": "4d27d34d"
    },
    {
      "cell_type": "code",
      "metadata": {},
      "source": [
        "#| column: page\n",
        "plotting.plotly_spot_loss(fname, n_max=None, xscale='linear', yscale='linear')"
      ],
      "id": "f4c7b21e",
      "execution_count": null,
      "outputs": []
    },
    {
      "cell_type": "markdown",
      "metadata": {},
      "source": [
        "## Plot spots for a given rotation angle"
      ],
      "id": "c587eb23"
    },
    {
      "cell_type": "code",
      "metadata": {},
      "source": [
        "#| column: page\n",
        "plotting.plotly_scatter_spots_assignment_per_angle(s_obs=s_obs, inds_obs=inds_obs, s_mod=s_mod, inds_mod=inds_mod, spot_mod_assign=s2g_mod_assign, p_lam=p_lam, omegas=omegas, \n",
        "                                                   ind_angle=1, \n",
        "                                                   color_obs='darkgrey', \n",
        "                                                   lw=0.5, \n",
        "                                                   cmap='tab10')"
      ],
      "id": "939fcf8f",
      "execution_count": null,
      "outputs": []
    },
    {
      "cell_type": "markdown",
      "metadata": {},
      "source": [
        "## Plot spots for a given grain"
      ],
      "id": "edf00952"
    },
    {
      "cell_type": "code",
      "metadata": {},
      "source": [
        "#| column: page\n",
        "plotting.plotly_scatter_spots_assignment_per_grain(s_obs=s_obs, inds_obs=inds_obs, s_mod=s_mod, inds_mod=inds_mod, spot_mod_assign=s2g_mod_assign, spot_obs_assign=s2g_obs_assign, p_lam=p_lam, omegas=omegas, \n",
        "                                                   ind_grain=1, \n",
        "                                                   color_obs='darkgrey', \n",
        "                                                   lw=0.5, \n",
        "                                                   cmap='tab10')"
      ],
      "id": "4a3a7326",
      "execution_count": null,
      "outputs": []
    }
  ],
  "metadata": {
    "kernelspec": {
      "name": "python3",
      "language": "python",
      "display_name": "Python 3 (ipykernel)"
    }
  },
  "nbformat": 4,
  "nbformat_minor": 5
}